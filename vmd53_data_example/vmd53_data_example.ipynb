{
 "cells": [
  {
   "cell_type": "markdown",
   "metadata": {},
   "source": [
    "Here is an example data of 10 field sites from 5 studies.  \n",
    "There are base tillage treatments ('cp', 'dr', 'mp', 'cp_cc', 'mp_cc') and interventions ('nt', 'st', 'nt_cc')."
   ]
  },
  {
   "cell_type": "code",
   "execution_count": 1,
   "metadata": {
    "vscode": {
     "languageId": "r"
    }
   },
   "outputs": [
    {
     "data": {
      "text/html": [
       "<style>\n",
       ".list-inline {list-style: none; margin:0; padding: 0}\n",
       ".list-inline>li {display: inline-block}\n",
       ".list-inline>li:not(:last-child)::after {content: \"\\00b7\"; padding: 0 .5ex}\n",
       "</style>\n",
       "<ol class=list-inline><li>'doi'</li><li>'study'</li><li>'auth'</li><li>'treatment'</li><li>'trt_yr_st'</li><li>'trt_yr_end'</li><li>'yrs_btwn_meas'</li><li>'location'</li><li>'site_id'</li><li>'rotation'</li><li>'commodity'</li><li>'output'</li><li>'value'</li><li>'yrly_delta'</li><li>'diff_delta'</li><li>'unit'</li><li>'soc_interp'</li><li>'std'</li><li>'lyr_top'</li><li>'lyr_btm'</li><li>'repl_measures'</li><li>'rep_meas'</li></ol>\n"
      ],
      "text/latex": [
       "\\begin{enumerate*}\n",
       "\\item 'doi'\n",
       "\\item 'study'\n",
       "\\item 'auth'\n",
       "\\item 'treatment'\n",
       "\\item 'trt\\_yr\\_st'\n",
       "\\item 'trt\\_yr\\_end'\n",
       "\\item 'yrs\\_btwn\\_meas'\n",
       "\\item 'location'\n",
       "\\item 'site\\_id'\n",
       "\\item 'rotation'\n",
       "\\item 'commodity'\n",
       "\\item 'output'\n",
       "\\item 'value'\n",
       "\\item 'yrly\\_delta'\n",
       "\\item 'diff\\_delta'\n",
       "\\item 'unit'\n",
       "\\item 'soc\\_interp'\n",
       "\\item 'std'\n",
       "\\item 'lyr\\_top'\n",
       "\\item 'lyr\\_btm'\n",
       "\\item 'repl\\_measures'\n",
       "\\item 'rep\\_meas'\n",
       "\\end{enumerate*}\n"
      ],
      "text/markdown": [
       "1. 'doi'\n",
       "2. 'study'\n",
       "3. 'auth'\n",
       "4. 'treatment'\n",
       "5. 'trt_yr_st'\n",
       "6. 'trt_yr_end'\n",
       "7. 'yrs_btwn_meas'\n",
       "8. 'location'\n",
       "9. 'site_id'\n",
       "10. 'rotation'\n",
       "11. 'commodity'\n",
       "12. 'output'\n",
       "13. 'value'\n",
       "14. 'yrly_delta'\n",
       "15. 'diff_delta'\n",
       "16. 'unit'\n",
       "17. 'soc_interp'\n",
       "18. 'std'\n",
       "19. 'lyr_top'\n",
       "20. 'lyr_btm'\n",
       "21. 'repl_measures'\n",
       "22. 'rep_meas'\n",
       "\n",
       "\n"
      ],
      "text/plain": [
       " [1] \"doi\"           \"study\"         \"auth\"          \"treatment\"    \n",
       " [5] \"trt_yr_st\"     \"trt_yr_end\"    \"yrs_btwn_meas\" \"location\"     \n",
       " [9] \"site_id\"       \"rotation\"      \"commodity\"     \"output\"       \n",
       "[13] \"value\"         \"yrly_delta\"    \"diff_delta\"    \"unit\"         \n",
       "[17] \"soc_interp\"    \"std\"           \"lyr_top\"       \"lyr_btm\"      \n",
       "[21] \"repl_measures\" \"rep_meas\"     "
      ]
     },
     "metadata": {},
     "output_type": "display_data"
    },
    {
     "data": {
      "text/html": [
       "<style>\n",
       ".list-inline {list-style: none; margin:0; padding: 0}\n",
       ".list-inline>li {display: inline-block}\n",
       ".list-inline>li:not(:last-child)::after {content: \"\\00b7\"; padding: 0 .5ex}\n",
       "</style>\n",
       "<ol class=list-inline><li>'AlKaisi_2020'</li><li>'Schmer_2014'</li><li>'Olson_2010'</li><li>'Olson_2005'</li><li>'Sanford_2012'</li></ol>\n"
      ],
      "text/latex": [
       "\\begin{enumerate*}\n",
       "\\item 'AlKaisi\\_2020'\n",
       "\\item 'Schmer\\_2014'\n",
       "\\item 'Olson\\_2010'\n",
       "\\item 'Olson\\_2005'\n",
       "\\item 'Sanford\\_2012'\n",
       "\\end{enumerate*}\n"
      ],
      "text/markdown": [
       "1. 'AlKaisi_2020'\n",
       "2. 'Schmer_2014'\n",
       "3. 'Olson_2010'\n",
       "4. 'Olson_2005'\n",
       "5. 'Sanford_2012'\n",
       "\n",
       "\n"
      ],
      "text/plain": [
       "[1] \"AlKaisi_2020\" \"Schmer_2014\"  \"Olson_2010\"   \"Olson_2005\"   \"Sanford_2012\""
      ]
     },
     "metadata": {},
     "output_type": "display_data"
    },
    {
     "data": {
      "text/html": [
       "<style>\n",
       ".list-inline {list-style: none; margin:0; padding: 0}\n",
       ".list-inline>li {display: inline-block}\n",
       ".list-inline>li:not(:last-child)::after {content: \"\\00b7\"; padding: 0 .5ex}\n",
       "</style>\n",
       "<ol class=list-inline><li>'Sutherland'</li><li>'Kanawha'</li><li>'Nashua'</li><li>'Ames'</li><li>'Armstrong'</li><li>'McNay'</li><li>'Crawfordsville'</li><li>'Ithaca'</li><li>'Dixon'</li><li>'WICST'</li></ol>\n"
      ],
      "text/latex": [
       "\\begin{enumerate*}\n",
       "\\item 'Sutherland'\n",
       "\\item 'Kanawha'\n",
       "\\item 'Nashua'\n",
       "\\item 'Ames'\n",
       "\\item 'Armstrong'\n",
       "\\item 'McNay'\n",
       "\\item 'Crawfordsville'\n",
       "\\item 'Ithaca'\n",
       "\\item 'Dixon'\n",
       "\\item 'WICST'\n",
       "\\end{enumerate*}\n"
      ],
      "text/markdown": [
       "1. 'Sutherland'\n",
       "2. 'Kanawha'\n",
       "3. 'Nashua'\n",
       "4. 'Ames'\n",
       "5. 'Armstrong'\n",
       "6. 'McNay'\n",
       "7. 'Crawfordsville'\n",
       "8. 'Ithaca'\n",
       "9. 'Dixon'\n",
       "10. 'WICST'\n",
       "\n",
       "\n"
      ],
      "text/plain": [
       " [1] \"Sutherland\"     \"Kanawha\"        \"Nashua\"         \"Ames\"          \n",
       " [5] \"Armstrong\"      \"McNay\"          \"Crawfordsville\" \"Ithaca\"        \n",
       " [9] \"Dixon\"          \"WICST\"         "
      ]
     },
     "metadata": {},
     "output_type": "display_data"
    },
    {
     "data": {
      "text/html": [
       "<table class=\"dataframe\">\n",
       "<caption>A data.frame: 6 × 22</caption>\n",
       "<thead>\n",
       "\t<tr><th></th><th scope=col>doi</th><th scope=col>study</th><th scope=col>auth</th><th scope=col>treatment</th><th scope=col>trt_yr_st</th><th scope=col>trt_yr_end</th><th scope=col>yrs_btwn_meas</th><th scope=col>location</th><th scope=col>site_id</th><th scope=col>rotation</th><th scope=col>⋯</th><th scope=col>value</th><th scope=col>yrly_delta</th><th scope=col>diff_delta</th><th scope=col>unit</th><th scope=col>soc_interp</th><th scope=col>std</th><th scope=col>lyr_top</th><th scope=col>lyr_btm</th><th scope=col>repl_measures</th><th scope=col>rep_meas</th></tr>\n",
       "\t<tr><th></th><th scope=col>&lt;chr&gt;</th><th scope=col>&lt;chr&gt;</th><th scope=col>&lt;chr&gt;</th><th scope=col>&lt;chr&gt;</th><th scope=col>&lt;int&gt;</th><th scope=col>&lt;int&gt;</th><th scope=col>&lt;int&gt;</th><th scope=col>&lt;chr&gt;</th><th scope=col>&lt;int&gt;</th><th scope=col>&lt;chr&gt;</th><th scope=col>⋯</th><th scope=col>&lt;dbl&gt;</th><th scope=col>&lt;dbl&gt;</th><th scope=col>&lt;dbl&gt;</th><th scope=col>&lt;chr&gt;</th><th scope=col>&lt;chr&gt;</th><th scope=col>&lt;chr&gt;</th><th scope=col>&lt;int&gt;</th><th scope=col>&lt;int&gt;</th><th scope=col>&lt;int&gt;</th><th scope=col>&lt;int&gt;</th></tr>\n",
       "</thead>\n",
       "<tbody>\n",
       "\t<tr><th scope=row>1</th><td>10.1002/saj2.20003</td><td>AlKaisi_2020</td><td>Al-Kaisi</td><td>nt</td><td>2002</td><td>2007</td><td>5</td><td>Sutherland</td><td>9</td><td>cs </td><td>⋯</td><td> 2.15</td><td> 0.430</td><td>0.7431667</td><td>Mg ha-1</td><td>delta</td><td>na</td><td>0</td><td>60</td><td>40</td><td>2</td></tr>\n",
       "\t<tr><th scope=row>2</th><td>10.1002/saj2.20003</td><td>AlKaisi_2020</td><td>Al-Kaisi</td><td>st</td><td>2002</td><td>2007</td><td>5</td><td>Sutherland</td><td>9</td><td>cs </td><td>⋯</td><td> 1.80</td><td> 0.360</td><td>0.7431667</td><td>Mg ha-1</td><td>delta</td><td>na</td><td>0</td><td>60</td><td>40</td><td>2</td></tr>\n",
       "\t<tr><th scope=row>3</th><td>10.1002/saj2.20003</td><td>AlKaisi_2020</td><td>Al-Kaisi</td><td>cp</td><td>2002</td><td>2007</td><td>5</td><td>Sutherland</td><td>9</td><td>cs </td><td>⋯</td><td>-1.86</td><td>-0.372</td><td>0.7431667</td><td>Mg ha-1</td><td>delta</td><td>na</td><td>0</td><td>60</td><td>40</td><td>2</td></tr>\n",
       "\t<tr><th scope=row>4</th><td>10.1002/saj2.20003</td><td>AlKaisi_2020</td><td>Al-Kaisi</td><td>dr</td><td>2002</td><td>2007</td><td>5</td><td>Sutherland</td><td>9</td><td>cs </td><td>⋯</td><td>-1.62</td><td>-0.324</td><td>0.7431667</td><td>Mg ha-1</td><td>delta</td><td>na</td><td>0</td><td>60</td><td>40</td><td>2</td></tr>\n",
       "\t<tr><th scope=row>5</th><td>10.1002/saj2.20003</td><td>AlKaisi_2020</td><td>Al-Kaisi</td><td>mp</td><td>2002</td><td>2007</td><td>5</td><td>Sutherland</td><td>9</td><td>cs </td><td>⋯</td><td>-2.04</td><td>-0.408</td><td>0.7431667</td><td>Mg ha-1</td><td>delta</td><td>na</td><td>0</td><td>60</td><td>40</td><td>2</td></tr>\n",
       "\t<tr><th scope=row>6</th><td>10.1002/saj2.20003</td><td>AlKaisi_2020</td><td>Al-Kaisi</td><td>nt</td><td>2002</td><td>2007</td><td>5</td><td>Sutherland</td><td>9</td><td>ccs</td><td>⋯</td><td> 2.11</td><td> 0.422</td><td>0.6665833</td><td>Mg ha-1</td><td>delta</td><td>na</td><td>0</td><td>60</td><td>40</td><td>2</td></tr>\n",
       "</tbody>\n",
       "</table>\n"
      ],
      "text/latex": [
       "A data.frame: 6 × 22\n",
       "\\begin{tabular}{r|lllllllllllllllllllll}\n",
       "  & doi & study & auth & treatment & trt\\_yr\\_st & trt\\_yr\\_end & yrs\\_btwn\\_meas & location & site\\_id & rotation & ⋯ & value & yrly\\_delta & diff\\_delta & unit & soc\\_interp & std & lyr\\_top & lyr\\_btm & repl\\_measures & rep\\_meas\\\\\n",
       "  & <chr> & <chr> & <chr> & <chr> & <int> & <int> & <int> & <chr> & <int> & <chr> & ⋯ & <dbl> & <dbl> & <dbl> & <chr> & <chr> & <chr> & <int> & <int> & <int> & <int>\\\\\n",
       "\\hline\n",
       "\t1 & 10.1002/saj2.20003 & AlKaisi\\_2020 & Al-Kaisi & nt & 2002 & 2007 & 5 & Sutherland & 9 & cs  & ⋯ &  2.15 &  0.430 & 0.7431667 & Mg ha-1 & delta & na & 0 & 60 & 40 & 2\\\\\n",
       "\t2 & 10.1002/saj2.20003 & AlKaisi\\_2020 & Al-Kaisi & st & 2002 & 2007 & 5 & Sutherland & 9 & cs  & ⋯ &  1.80 &  0.360 & 0.7431667 & Mg ha-1 & delta & na & 0 & 60 & 40 & 2\\\\\n",
       "\t3 & 10.1002/saj2.20003 & AlKaisi\\_2020 & Al-Kaisi & cp & 2002 & 2007 & 5 & Sutherland & 9 & cs  & ⋯ & -1.86 & -0.372 & 0.7431667 & Mg ha-1 & delta & na & 0 & 60 & 40 & 2\\\\\n",
       "\t4 & 10.1002/saj2.20003 & AlKaisi\\_2020 & Al-Kaisi & dr & 2002 & 2007 & 5 & Sutherland & 9 & cs  & ⋯ & -1.62 & -0.324 & 0.7431667 & Mg ha-1 & delta & na & 0 & 60 & 40 & 2\\\\\n",
       "\t5 & 10.1002/saj2.20003 & AlKaisi\\_2020 & Al-Kaisi & mp & 2002 & 2007 & 5 & Sutherland & 9 & cs  & ⋯ & -2.04 & -0.408 & 0.7431667 & Mg ha-1 & delta & na & 0 & 60 & 40 & 2\\\\\n",
       "\t6 & 10.1002/saj2.20003 & AlKaisi\\_2020 & Al-Kaisi & nt & 2002 & 2007 & 5 & Sutherland & 9 & ccs & ⋯ &  2.11 &  0.422 & 0.6665833 & Mg ha-1 & delta & na & 0 & 60 & 40 & 2\\\\\n",
       "\\end{tabular}\n"
      ],
      "text/markdown": [
       "\n",
       "A data.frame: 6 × 22\n",
       "\n",
       "| <!--/--> | doi &lt;chr&gt; | study &lt;chr&gt; | auth &lt;chr&gt; | treatment &lt;chr&gt; | trt_yr_st &lt;int&gt; | trt_yr_end &lt;int&gt; | yrs_btwn_meas &lt;int&gt; | location &lt;chr&gt; | site_id &lt;int&gt; | rotation &lt;chr&gt; | ⋯ ⋯ | value &lt;dbl&gt; | yrly_delta &lt;dbl&gt; | diff_delta &lt;dbl&gt; | unit &lt;chr&gt; | soc_interp &lt;chr&gt; | std &lt;chr&gt; | lyr_top &lt;int&gt; | lyr_btm &lt;int&gt; | repl_measures &lt;int&gt; | rep_meas &lt;int&gt; |\n",
       "|---|---|---|---|---|---|---|---|---|---|---|---|---|---|---|---|---|---|---|---|---|---|\n",
       "| 1 | 10.1002/saj2.20003 | AlKaisi_2020 | Al-Kaisi | nt | 2002 | 2007 | 5 | Sutherland | 9 | cs  | ⋯ |  2.15 |  0.430 | 0.7431667 | Mg ha-1 | delta | na | 0 | 60 | 40 | 2 |\n",
       "| 2 | 10.1002/saj2.20003 | AlKaisi_2020 | Al-Kaisi | st | 2002 | 2007 | 5 | Sutherland | 9 | cs  | ⋯ |  1.80 |  0.360 | 0.7431667 | Mg ha-1 | delta | na | 0 | 60 | 40 | 2 |\n",
       "| 3 | 10.1002/saj2.20003 | AlKaisi_2020 | Al-Kaisi | cp | 2002 | 2007 | 5 | Sutherland | 9 | cs  | ⋯ | -1.86 | -0.372 | 0.7431667 | Mg ha-1 | delta | na | 0 | 60 | 40 | 2 |\n",
       "| 4 | 10.1002/saj2.20003 | AlKaisi_2020 | Al-Kaisi | dr | 2002 | 2007 | 5 | Sutherland | 9 | cs  | ⋯ | -1.62 | -0.324 | 0.7431667 | Mg ha-1 | delta | na | 0 | 60 | 40 | 2 |\n",
       "| 5 | 10.1002/saj2.20003 | AlKaisi_2020 | Al-Kaisi | mp | 2002 | 2007 | 5 | Sutherland | 9 | cs  | ⋯ | -2.04 | -0.408 | 0.7431667 | Mg ha-1 | delta | na | 0 | 60 | 40 | 2 |\n",
       "| 6 | 10.1002/saj2.20003 | AlKaisi_2020 | Al-Kaisi | nt | 2002 | 2007 | 5 | Sutherland | 9 | ccs | ⋯ |  2.11 |  0.422 | 0.6665833 | Mg ha-1 | delta | na | 0 | 60 | 40 | 2 |\n",
       "\n"
      ],
      "text/plain": [
       "  doi                study        auth     treatment trt_yr_st trt_yr_end\n",
       "1 10.1002/saj2.20003 AlKaisi_2020 Al-Kaisi nt        2002      2007      \n",
       "2 10.1002/saj2.20003 AlKaisi_2020 Al-Kaisi st        2002      2007      \n",
       "3 10.1002/saj2.20003 AlKaisi_2020 Al-Kaisi cp        2002      2007      \n",
       "4 10.1002/saj2.20003 AlKaisi_2020 Al-Kaisi dr        2002      2007      \n",
       "5 10.1002/saj2.20003 AlKaisi_2020 Al-Kaisi mp        2002      2007      \n",
       "6 10.1002/saj2.20003 AlKaisi_2020 Al-Kaisi nt        2002      2007      \n",
       "  yrs_btwn_meas location   site_id rotation ⋯ value yrly_delta diff_delta\n",
       "1 5             Sutherland 9       cs       ⋯  2.15  0.430     0.7431667 \n",
       "2 5             Sutherland 9       cs       ⋯  1.80  0.360     0.7431667 \n",
       "3 5             Sutherland 9       cs       ⋯ -1.86 -0.372     0.7431667 \n",
       "4 5             Sutherland 9       cs       ⋯ -1.62 -0.324     0.7431667 \n",
       "5 5             Sutherland 9       cs       ⋯ -2.04 -0.408     0.7431667 \n",
       "6 5             Sutherland 9       ccs      ⋯  2.11  0.422     0.6665833 \n",
       "  unit    soc_interp std lyr_top lyr_btm repl_measures rep_meas\n",
       "1 Mg ha-1 delta      na  0       60      40            2       \n",
       "2 Mg ha-1 delta      na  0       60      40            2       \n",
       "3 Mg ha-1 delta      na  0       60      40            2       \n",
       "4 Mg ha-1 delta      na  0       60      40            2       \n",
       "5 Mg ha-1 delta      na  0       60      40            2       \n",
       "6 Mg ha-1 delta      na  0       60      40            2       "
      ]
     },
     "metadata": {},
     "output_type": "display_data"
    }
   ],
   "source": [
    "source(\"cov_matrix.r\")\n",
    "example_data <- read.csv(\"vmd53_example_data.csv\")\n",
    "colnames(example_data)\n",
    "unique(example_data$study)\n",
    "unique(example_data$location)\n",
    "head(example_data)"
   ]
  },
  {
   "cell_type": "markdown",
   "metadata": {},
   "source": [
    "I have included features as identified from the Mathers cov matrix plus some.    \n",
    "Below is one of the fields. I have rep measures as 2 since there are repeat measures  \n",
    "at two different time points."
   ]
  },
  {
   "cell_type": "code",
   "execution_count": 2,
   "metadata": {
    "vscode": {
     "languageId": "r"
    }
   },
   "outputs": [],
   "source": [
    "my_cols <- c(\"rep_meas\", \"treatment\", \"rotation\", \"trt_yr_end\", \"location\", \"yrs_btwn_meas\")"
   ]
  },
  {
   "cell_type": "code",
   "execution_count": 3,
   "metadata": {
    "vscode": {
     "languageId": "r"
    }
   },
   "outputs": [
    {
     "data": {
      "text/html": [
       "<table class=\"dataframe\">\n",
       "<caption>A data.frame: 25 × 6</caption>\n",
       "<thead>\n",
       "\t<tr><th></th><th scope=col>rep_meas</th><th scope=col>treatment</th><th scope=col>rotation</th><th scope=col>trt_yr_end</th><th scope=col>location</th><th scope=col>yrs_btwn_meas</th></tr>\n",
       "\t<tr><th></th><th scope=col>&lt;int&gt;</th><th scope=col>&lt;chr&gt;</th><th scope=col>&lt;chr&gt;</th><th scope=col>&lt;int&gt;</th><th scope=col>&lt;chr&gt;</th><th scope=col>&lt;int&gt;</th></tr>\n",
       "</thead>\n",
       "<tbody>\n",
       "\t<tr><th scope=row>1</th><td>2</td><td>nt</td><td>cs </td><td>2007</td><td>Sutherland</td><td>5</td></tr>\n",
       "\t<tr><th scope=row>2</th><td>2</td><td>st</td><td>cs </td><td>2007</td><td>Sutherland</td><td>5</td></tr>\n",
       "\t<tr><th scope=row>3</th><td>2</td><td>cp</td><td>cs </td><td>2007</td><td>Sutherland</td><td>5</td></tr>\n",
       "\t<tr><th scope=row>4</th><td>2</td><td>dr</td><td>cs </td><td>2007</td><td>Sutherland</td><td>5</td></tr>\n",
       "\t<tr><th scope=row>5</th><td>2</td><td>mp</td><td>cs </td><td>2007</td><td>Sutherland</td><td>5</td></tr>\n",
       "\t<tr><th scope=row>6</th><td>2</td><td>nt</td><td>ccs</td><td>2007</td><td>Sutherland</td><td>5</td></tr>\n",
       "\t<tr><th scope=row>7</th><td>2</td><td>st</td><td>ccs</td><td>2007</td><td>Sutherland</td><td>5</td></tr>\n",
       "\t<tr><th scope=row>8</th><td>2</td><td>cp</td><td>ccs</td><td>2007</td><td>Sutherland</td><td>5</td></tr>\n",
       "\t<tr><th scope=row>9</th><td>2</td><td>dr</td><td>ccs</td><td>2007</td><td>Sutherland</td><td>5</td></tr>\n",
       "\t<tr><th scope=row>10</th><td>2</td><td>mp</td><td>ccs</td><td>2007</td><td>Sutherland</td><td>5</td></tr>\n",
       "\t<tr><th scope=row>11</th><td>2</td><td>nt</td><td>cs </td><td>2014</td><td>Sutherland</td><td>7</td></tr>\n",
       "\t<tr><th scope=row>12</th><td>2</td><td>st</td><td>cs </td><td>2014</td><td>Sutherland</td><td>7</td></tr>\n",
       "\t<tr><th scope=row>13</th><td>2</td><td>cp</td><td>cs </td><td>2014</td><td>Sutherland</td><td>7</td></tr>\n",
       "\t<tr><th scope=row>14</th><td>2</td><td>dr</td><td>cs </td><td>2014</td><td>Sutherland</td><td>7</td></tr>\n",
       "\t<tr><th scope=row>15</th><td>2</td><td>mp</td><td>cs </td><td>2014</td><td>Sutherland</td><td>7</td></tr>\n",
       "\t<tr><th scope=row>16</th><td>2</td><td>nt</td><td>ccs</td><td>2014</td><td>Sutherland</td><td>7</td></tr>\n",
       "\t<tr><th scope=row>17</th><td>2</td><td>st</td><td>ccs</td><td>2014</td><td>Sutherland</td><td>7</td></tr>\n",
       "\t<tr><th scope=row>18</th><td>2</td><td>cp</td><td>ccs</td><td>2014</td><td>Sutherland</td><td>7</td></tr>\n",
       "\t<tr><th scope=row>19</th><td>2</td><td>dr</td><td>ccs</td><td>2014</td><td>Sutherland</td><td>7</td></tr>\n",
       "\t<tr><th scope=row>20</th><td>2</td><td>mp</td><td>ccs</td><td>2014</td><td>Sutherland</td><td>7</td></tr>\n",
       "\t<tr><th scope=row>21</th><td>2</td><td>nt</td><td>cc </td><td>2014</td><td>Sutherland</td><td>7</td></tr>\n",
       "\t<tr><th scope=row>22</th><td>2</td><td>st</td><td>cc </td><td>2014</td><td>Sutherland</td><td>7</td></tr>\n",
       "\t<tr><th scope=row>23</th><td>2</td><td>cp</td><td>cc </td><td>2014</td><td>Sutherland</td><td>7</td></tr>\n",
       "\t<tr><th scope=row>24</th><td>2</td><td>dr</td><td>cc </td><td>2014</td><td>Sutherland</td><td>7</td></tr>\n",
       "\t<tr><th scope=row>25</th><td>2</td><td>mp</td><td>cc </td><td>2014</td><td>Sutherland</td><td>7</td></tr>\n",
       "</tbody>\n",
       "</table>\n"
      ],
      "text/latex": [
       "A data.frame: 25 × 6\n",
       "\\begin{tabular}{r|llllll}\n",
       "  & rep\\_meas & treatment & rotation & trt\\_yr\\_end & location & yrs\\_btwn\\_meas\\\\\n",
       "  & <int> & <chr> & <chr> & <int> & <chr> & <int>\\\\\n",
       "\\hline\n",
       "\t1 & 2 & nt & cs  & 2007 & Sutherland & 5\\\\\n",
       "\t2 & 2 & st & cs  & 2007 & Sutherland & 5\\\\\n",
       "\t3 & 2 & cp & cs  & 2007 & Sutherland & 5\\\\\n",
       "\t4 & 2 & dr & cs  & 2007 & Sutherland & 5\\\\\n",
       "\t5 & 2 & mp & cs  & 2007 & Sutherland & 5\\\\\n",
       "\t6 & 2 & nt & ccs & 2007 & Sutherland & 5\\\\\n",
       "\t7 & 2 & st & ccs & 2007 & Sutherland & 5\\\\\n",
       "\t8 & 2 & cp & ccs & 2007 & Sutherland & 5\\\\\n",
       "\t9 & 2 & dr & ccs & 2007 & Sutherland & 5\\\\\n",
       "\t10 & 2 & mp & ccs & 2007 & Sutherland & 5\\\\\n",
       "\t11 & 2 & nt & cs  & 2014 & Sutherland & 7\\\\\n",
       "\t12 & 2 & st & cs  & 2014 & Sutherland & 7\\\\\n",
       "\t13 & 2 & cp & cs  & 2014 & Sutherland & 7\\\\\n",
       "\t14 & 2 & dr & cs  & 2014 & Sutherland & 7\\\\\n",
       "\t15 & 2 & mp & cs  & 2014 & Sutherland & 7\\\\\n",
       "\t16 & 2 & nt & ccs & 2014 & Sutherland & 7\\\\\n",
       "\t17 & 2 & st & ccs & 2014 & Sutherland & 7\\\\\n",
       "\t18 & 2 & cp & ccs & 2014 & Sutherland & 7\\\\\n",
       "\t19 & 2 & dr & ccs & 2014 & Sutherland & 7\\\\\n",
       "\t20 & 2 & mp & ccs & 2014 & Sutherland & 7\\\\\n",
       "\t21 & 2 & nt & cc  & 2014 & Sutherland & 7\\\\\n",
       "\t22 & 2 & st & cc  & 2014 & Sutherland & 7\\\\\n",
       "\t23 & 2 & cp & cc  & 2014 & Sutherland & 7\\\\\n",
       "\t24 & 2 & dr & cc  & 2014 & Sutherland & 7\\\\\n",
       "\t25 & 2 & mp & cc  & 2014 & Sutherland & 7\\\\\n",
       "\\end{tabular}\n"
      ],
      "text/markdown": [
       "\n",
       "A data.frame: 25 × 6\n",
       "\n",
       "| <!--/--> | rep_meas &lt;int&gt; | treatment &lt;chr&gt; | rotation &lt;chr&gt; | trt_yr_end &lt;int&gt; | location &lt;chr&gt; | yrs_btwn_meas &lt;int&gt; |\n",
       "|---|---|---|---|---|---|---|\n",
       "| 1 | 2 | nt | cs  | 2007 | Sutherland | 5 |\n",
       "| 2 | 2 | st | cs  | 2007 | Sutherland | 5 |\n",
       "| 3 | 2 | cp | cs  | 2007 | Sutherland | 5 |\n",
       "| 4 | 2 | dr | cs  | 2007 | Sutherland | 5 |\n",
       "| 5 | 2 | mp | cs  | 2007 | Sutherland | 5 |\n",
       "| 6 | 2 | nt | ccs | 2007 | Sutherland | 5 |\n",
       "| 7 | 2 | st | ccs | 2007 | Sutherland | 5 |\n",
       "| 8 | 2 | cp | ccs | 2007 | Sutherland | 5 |\n",
       "| 9 | 2 | dr | ccs | 2007 | Sutherland | 5 |\n",
       "| 10 | 2 | mp | ccs | 2007 | Sutherland | 5 |\n",
       "| 11 | 2 | nt | cs  | 2014 | Sutherland | 7 |\n",
       "| 12 | 2 | st | cs  | 2014 | Sutherland | 7 |\n",
       "| 13 | 2 | cp | cs  | 2014 | Sutherland | 7 |\n",
       "| 14 | 2 | dr | cs  | 2014 | Sutherland | 7 |\n",
       "| 15 | 2 | mp | cs  | 2014 | Sutherland | 7 |\n",
       "| 16 | 2 | nt | ccs | 2014 | Sutherland | 7 |\n",
       "| 17 | 2 | st | ccs | 2014 | Sutherland | 7 |\n",
       "| 18 | 2 | cp | ccs | 2014 | Sutherland | 7 |\n",
       "| 19 | 2 | dr | ccs | 2014 | Sutherland | 7 |\n",
       "| 20 | 2 | mp | ccs | 2014 | Sutherland | 7 |\n",
       "| 21 | 2 | nt | cc  | 2014 | Sutherland | 7 |\n",
       "| 22 | 2 | st | cc  | 2014 | Sutherland | 7 |\n",
       "| 23 | 2 | cp | cc  | 2014 | Sutherland | 7 |\n",
       "| 24 | 2 | dr | cc  | 2014 | Sutherland | 7 |\n",
       "| 25 | 2 | mp | cc  | 2014 | Sutherland | 7 |\n",
       "\n"
      ],
      "text/plain": [
       "   rep_meas treatment rotation trt_yr_end location   yrs_btwn_meas\n",
       "1  2        nt        cs       2007       Sutherland 5            \n",
       "2  2        st        cs       2007       Sutherland 5            \n",
       "3  2        cp        cs       2007       Sutherland 5            \n",
       "4  2        dr        cs       2007       Sutherland 5            \n",
       "5  2        mp        cs       2007       Sutherland 5            \n",
       "6  2        nt        ccs      2007       Sutherland 5            \n",
       "7  2        st        ccs      2007       Sutherland 5            \n",
       "8  2        cp        ccs      2007       Sutherland 5            \n",
       "9  2        dr        ccs      2007       Sutherland 5            \n",
       "10 2        mp        ccs      2007       Sutherland 5            \n",
       "11 2        nt        cs       2014       Sutherland 7            \n",
       "12 2        st        cs       2014       Sutherland 7            \n",
       "13 2        cp        cs       2014       Sutherland 7            \n",
       "14 2        dr        cs       2014       Sutherland 7            \n",
       "15 2        mp        cs       2014       Sutherland 7            \n",
       "16 2        nt        ccs      2014       Sutherland 7            \n",
       "17 2        st        ccs      2014       Sutherland 7            \n",
       "18 2        cp        ccs      2014       Sutherland 7            \n",
       "19 2        dr        ccs      2014       Sutherland 7            \n",
       "20 2        mp        ccs      2014       Sutherland 7            \n",
       "21 2        nt        cc       2014       Sutherland 7            \n",
       "22 2        st        cc       2014       Sutherland 7            \n",
       "23 2        cp        cc       2014       Sutherland 7            \n",
       "24 2        dr        cc       2014       Sutherland 7            \n",
       "25 2        mp        cc       2014       Sutherland 7            "
      ]
     },
     "metadata": {},
     "output_type": "display_data"
    }
   ],
   "source": [
    "suth_data <- subset(example_data, location == 'Sutherland')\n",
    "suth_data[, my_cols]"
   ]
  },
  {
   "cell_type": "markdown",
   "metadata": {},
   "source": [
    "Here's another location from which we have data from two separate papers,  \n",
    "so across both papers there are 9 repeated measures."
   ]
  },
  {
   "cell_type": "code",
   "execution_count": 4,
   "metadata": {
    "vscode": {
     "languageId": "r"
    }
   },
   "outputs": [
    {
     "data": {
      "text/html": [
       "<table class=\"dataframe\">\n",
       "<caption>A data.frame: 6 × 6</caption>\n",
       "<thead>\n",
       "\t<tr><th></th><th scope=col>rep_meas</th><th scope=col>treatment</th><th scope=col>rotation</th><th scope=col>trt_yr_end</th><th scope=col>location</th><th scope=col>yrs_btwn_meas</th></tr>\n",
       "\t<tr><th></th><th scope=col>&lt;int&gt;</th><th scope=col>&lt;chr&gt;</th><th scope=col>&lt;chr&gt;</th><th scope=col>&lt;int&gt;</th><th scope=col>&lt;chr&gt;</th><th scope=col>&lt;int&gt;</th></tr>\n",
       "</thead>\n",
       "<tbody>\n",
       "\t<tr><th scope=row>186</th><td>9</td><td>nt   </td><td>cs</td><td>2003</td><td>Dixon</td><td>3</td></tr>\n",
       "\t<tr><th scope=row>187</th><td>9</td><td>nt   </td><td>cs</td><td>2007</td><td>Dixon</td><td>4</td></tr>\n",
       "\t<tr><th scope=row>188</th><td>9</td><td>nt   </td><td>cs</td><td>2009</td><td>Dixon</td><td>2</td></tr>\n",
       "\t<tr><th scope=row>189</th><td>9</td><td>nt_cc</td><td>cs</td><td>2003</td><td>Dixon</td><td>3</td></tr>\n",
       "\t<tr><th scope=row>190</th><td>9</td><td>nt_cc</td><td>cs</td><td>2007</td><td>Dixon</td><td>4</td></tr>\n",
       "\t<tr><th scope=row>191</th><td>9</td><td>nt_cc</td><td>cs</td><td>2009</td><td>Dixon</td><td>2</td></tr>\n",
       "</tbody>\n",
       "</table>\n"
      ],
      "text/latex": [
       "A data.frame: 6 × 6\n",
       "\\begin{tabular}{r|llllll}\n",
       "  & rep\\_meas & treatment & rotation & trt\\_yr\\_end & location & yrs\\_btwn\\_meas\\\\\n",
       "  & <int> & <chr> & <chr> & <int> & <chr> & <int>\\\\\n",
       "\\hline\n",
       "\t186 & 9 & nt    & cs & 2003 & Dixon & 3\\\\\n",
       "\t187 & 9 & nt    & cs & 2007 & Dixon & 4\\\\\n",
       "\t188 & 9 & nt    & cs & 2009 & Dixon & 2\\\\\n",
       "\t189 & 9 & nt\\_cc & cs & 2003 & Dixon & 3\\\\\n",
       "\t190 & 9 & nt\\_cc & cs & 2007 & Dixon & 4\\\\\n",
       "\t191 & 9 & nt\\_cc & cs & 2009 & Dixon & 2\\\\\n",
       "\\end{tabular}\n"
      ],
      "text/markdown": [
       "\n",
       "A data.frame: 6 × 6\n",
       "\n",
       "| <!--/--> | rep_meas &lt;int&gt; | treatment &lt;chr&gt; | rotation &lt;chr&gt; | trt_yr_end &lt;int&gt; | location &lt;chr&gt; | yrs_btwn_meas &lt;int&gt; |\n",
       "|---|---|---|---|---|---|---|\n",
       "| 186 | 9 | nt    | cs | 2003 | Dixon | 3 |\n",
       "| 187 | 9 | nt    | cs | 2007 | Dixon | 4 |\n",
       "| 188 | 9 | nt    | cs | 2009 | Dixon | 2 |\n",
       "| 189 | 9 | nt_cc | cs | 2003 | Dixon | 3 |\n",
       "| 190 | 9 | nt_cc | cs | 2007 | Dixon | 4 |\n",
       "| 191 | 9 | nt_cc | cs | 2009 | Dixon | 2 |\n",
       "\n"
      ],
      "text/plain": [
       "    rep_meas treatment rotation trt_yr_end location yrs_btwn_meas\n",
       "186 9        nt        cs       2003       Dixon    3            \n",
       "187 9        nt        cs       2007       Dixon    4            \n",
       "188 9        nt        cs       2009       Dixon    2            \n",
       "189 9        nt_cc     cs       2003       Dixon    3            \n",
       "190 9        nt_cc     cs       2007       Dixon    4            \n",
       "191 9        nt_cc     cs       2009       Dixon    2            "
      ]
     },
     "metadata": {},
     "output_type": "display_data"
    }
   ],
   "source": [
    "dixon_data <- subset(example_data, location == 'Dixon')\n",
    "head(dixon_data[, my_cols])"
   ]
  },
  {
   "cell_type": "markdown",
   "metadata": {},
   "source": [
    "Let's see if this looks good. Construct a cov matrix just for the corn-soy rotation observations.  \n",
    "note: this rotation could quality for 'crop functional group' soybean (C3 plant) or maize (C4 plant),  \n",
    "but other rotations (e.g. corn-corn) would only qualify for the C4 group."
   ]
  },
  {
   "cell_type": "code",
   "execution_count": 5,
   "metadata": {
    "vscode": {
     "languageId": "r"
    }
   },
   "outputs": [],
   "source": [
    "corn_soy_data <- subset(example_data, rotation == 'cs')"
   ]
  },
  {
   "cell_type": "code",
   "execution_count": 6,
   "metadata": {
    "vscode": {
     "languageId": "r"
    }
   },
   "outputs": [],
   "source": [
    "constr_mather_cov <- function(params, site_ids, obs_years, yrs_btwn_meas) {\n",
    "  # Site random effect\n",
    "  construct_random_effect_covariance(\n",
    "    params[1],\n",
    "    site_ids) +\n",
    "\n",
    "    # Year-within-site random effect\n",
    "    construct_random_effect_covariance(\n",
    "      params[2],\n",
    "      paste0(\n",
    "        site_ids,\n",
    "        obs_years)) +\n",
    "\n",
    "    # Time-based residual variance\n",
    "    construct_temporal_independent_covariance(\n",
    "      params[3],\n",
    "      params[4],\n",
    "      yrs_btwn_meas\n",
    "    )\n",
    "}"
   ]
  },
  {
   "cell_type": "code",
   "execution_count": 7,
   "metadata": {
    "vscode": {
     "languageId": "r"
    }
   },
   "outputs": [],
   "source": [
    "params_df <- read.csv(\"calib_params.csv\")\n",
    "cov_params <- tail(params_df, 4)\n"
   ]
  },
  {
   "cell_type": "code",
   "execution_count": 8,
   "metadata": {
    "vscode": {
     "languageId": "r"
    }
   },
   "outputs": [
    {
     "data": {
      "text/html": [
       "<table class=\"dataframe\">\n",
       "<caption>A matrix: 10 × 107 of type dbl</caption>\n",
       "<thead>\n",
       "\t<tr><th></th><th scope=col>1</th><th scope=col>2</th><th scope=col>3</th><th scope=col>4</th><th scope=col>5</th><th scope=col>6</th><th scope=col>7</th><th scope=col>8</th><th scope=col>9</th><th scope=col>10</th><th scope=col>⋯</th><th scope=col>98</th><th scope=col>99</th><th scope=col>100</th><th scope=col>101</th><th scope=col>102</th><th scope=col>103</th><th scope=col>104</th><th scope=col>105</th><th scope=col>106</th><th scope=col>107</th></tr>\n",
       "</thead>\n",
       "<tbody>\n",
       "\t<tr><th scope=row>1</th><td>0.0172023</td><td>0.0136000</td><td>0.0136000</td><td>0.0136000</td><td>0.0136000</td><td>0.00360000</td><td>0.00360000</td><td>0.00360000</td><td>0.00360000</td><td>0.00360000</td><td>⋯</td><td>0</td><td>0</td><td>0</td><td>0</td><td>0</td><td>0</td><td>0</td><td>0</td><td>0</td><td>0</td></tr>\n",
       "\t<tr><th scope=row>2</th><td>0.0136000</td><td>0.0172023</td><td>0.0136000</td><td>0.0136000</td><td>0.0136000</td><td>0.00360000</td><td>0.00360000</td><td>0.00360000</td><td>0.00360000</td><td>0.00360000</td><td>⋯</td><td>0</td><td>0</td><td>0</td><td>0</td><td>0</td><td>0</td><td>0</td><td>0</td><td>0</td><td>0</td></tr>\n",
       "\t<tr><th scope=row>3</th><td>0.0136000</td><td>0.0136000</td><td>0.0172023</td><td>0.0136000</td><td>0.0136000</td><td>0.00360000</td><td>0.00360000</td><td>0.00360000</td><td>0.00360000</td><td>0.00360000</td><td>⋯</td><td>0</td><td>0</td><td>0</td><td>0</td><td>0</td><td>0</td><td>0</td><td>0</td><td>0</td><td>0</td></tr>\n",
       "\t<tr><th scope=row>4</th><td>0.0136000</td><td>0.0136000</td><td>0.0136000</td><td>0.0172023</td><td>0.0136000</td><td>0.00360000</td><td>0.00360000</td><td>0.00360000</td><td>0.00360000</td><td>0.00360000</td><td>⋯</td><td>0</td><td>0</td><td>0</td><td>0</td><td>0</td><td>0</td><td>0</td><td>0</td><td>0</td><td>0</td></tr>\n",
       "\t<tr><th scope=row>5</th><td>0.0136000</td><td>0.0136000</td><td>0.0136000</td><td>0.0136000</td><td>0.0172023</td><td>0.00360000</td><td>0.00360000</td><td>0.00360000</td><td>0.00360000</td><td>0.00360000</td><td>⋯</td><td>0</td><td>0</td><td>0</td><td>0</td><td>0</td><td>0</td><td>0</td><td>0</td><td>0</td><td>0</td></tr>\n",
       "\t<tr><th scope=row>6</th><td>0.0036000</td><td>0.0036000</td><td>0.0036000</td><td>0.0036000</td><td>0.0036000</td><td>0.01720323</td><td>0.01360000</td><td>0.01360000</td><td>0.01360000</td><td>0.01360000</td><td>⋯</td><td>0</td><td>0</td><td>0</td><td>0</td><td>0</td><td>0</td><td>0</td><td>0</td><td>0</td><td>0</td></tr>\n",
       "\t<tr><th scope=row>7</th><td>0.0036000</td><td>0.0036000</td><td>0.0036000</td><td>0.0036000</td><td>0.0036000</td><td>0.01360000</td><td>0.01720323</td><td>0.01360000</td><td>0.01360000</td><td>0.01360000</td><td>⋯</td><td>0</td><td>0</td><td>0</td><td>0</td><td>0</td><td>0</td><td>0</td><td>0</td><td>0</td><td>0</td></tr>\n",
       "\t<tr><th scope=row>8</th><td>0.0036000</td><td>0.0036000</td><td>0.0036000</td><td>0.0036000</td><td>0.0036000</td><td>0.01360000</td><td>0.01360000</td><td>0.01720323</td><td>0.01360000</td><td>0.01360000</td><td>⋯</td><td>0</td><td>0</td><td>0</td><td>0</td><td>0</td><td>0</td><td>0</td><td>0</td><td>0</td><td>0</td></tr>\n",
       "\t<tr><th scope=row>9</th><td>0.0036000</td><td>0.0036000</td><td>0.0036000</td><td>0.0036000</td><td>0.0036000</td><td>0.01360000</td><td>0.01360000</td><td>0.01360000</td><td>0.01720323</td><td>0.01360000</td><td>⋯</td><td>0</td><td>0</td><td>0</td><td>0</td><td>0</td><td>0</td><td>0</td><td>0</td><td>0</td><td>0</td></tr>\n",
       "\t<tr><th scope=row>10</th><td>0.0036000</td><td>0.0036000</td><td>0.0036000</td><td>0.0036000</td><td>0.0036000</td><td>0.01360000</td><td>0.01360000</td><td>0.01360000</td><td>0.01360000</td><td>0.01720323</td><td>⋯</td><td>0</td><td>0</td><td>0</td><td>0</td><td>0</td><td>0</td><td>0</td><td>0</td><td>0</td><td>0</td></tr>\n",
       "</tbody>\n",
       "</table>\n"
      ],
      "text/latex": [
       "A matrix: 10 × 107 of type dbl\n",
       "\\begin{tabular}{r|lllllllllllllllllllll}\n",
       "  & 1 & 2 & 3 & 4 & 5 & 6 & 7 & 8 & 9 & 10 & ⋯ & 98 & 99 & 100 & 101 & 102 & 103 & 104 & 105 & 106 & 107\\\\\n",
       "\\hline\n",
       "\t1 & 0.0172023 & 0.0136000 & 0.0136000 & 0.0136000 & 0.0136000 & 0.00360000 & 0.00360000 & 0.00360000 & 0.00360000 & 0.00360000 & ⋯ & 0 & 0 & 0 & 0 & 0 & 0 & 0 & 0 & 0 & 0\\\\\n",
       "\t2 & 0.0136000 & 0.0172023 & 0.0136000 & 0.0136000 & 0.0136000 & 0.00360000 & 0.00360000 & 0.00360000 & 0.00360000 & 0.00360000 & ⋯ & 0 & 0 & 0 & 0 & 0 & 0 & 0 & 0 & 0 & 0\\\\\n",
       "\t3 & 0.0136000 & 0.0136000 & 0.0172023 & 0.0136000 & 0.0136000 & 0.00360000 & 0.00360000 & 0.00360000 & 0.00360000 & 0.00360000 & ⋯ & 0 & 0 & 0 & 0 & 0 & 0 & 0 & 0 & 0 & 0\\\\\n",
       "\t4 & 0.0136000 & 0.0136000 & 0.0136000 & 0.0172023 & 0.0136000 & 0.00360000 & 0.00360000 & 0.00360000 & 0.00360000 & 0.00360000 & ⋯ & 0 & 0 & 0 & 0 & 0 & 0 & 0 & 0 & 0 & 0\\\\\n",
       "\t5 & 0.0136000 & 0.0136000 & 0.0136000 & 0.0136000 & 0.0172023 & 0.00360000 & 0.00360000 & 0.00360000 & 0.00360000 & 0.00360000 & ⋯ & 0 & 0 & 0 & 0 & 0 & 0 & 0 & 0 & 0 & 0\\\\\n",
       "\t6 & 0.0036000 & 0.0036000 & 0.0036000 & 0.0036000 & 0.0036000 & 0.01720323 & 0.01360000 & 0.01360000 & 0.01360000 & 0.01360000 & ⋯ & 0 & 0 & 0 & 0 & 0 & 0 & 0 & 0 & 0 & 0\\\\\n",
       "\t7 & 0.0036000 & 0.0036000 & 0.0036000 & 0.0036000 & 0.0036000 & 0.01360000 & 0.01720323 & 0.01360000 & 0.01360000 & 0.01360000 & ⋯ & 0 & 0 & 0 & 0 & 0 & 0 & 0 & 0 & 0 & 0\\\\\n",
       "\t8 & 0.0036000 & 0.0036000 & 0.0036000 & 0.0036000 & 0.0036000 & 0.01360000 & 0.01360000 & 0.01720323 & 0.01360000 & 0.01360000 & ⋯ & 0 & 0 & 0 & 0 & 0 & 0 & 0 & 0 & 0 & 0\\\\\n",
       "\t9 & 0.0036000 & 0.0036000 & 0.0036000 & 0.0036000 & 0.0036000 & 0.01360000 & 0.01360000 & 0.01360000 & 0.01720323 & 0.01360000 & ⋯ & 0 & 0 & 0 & 0 & 0 & 0 & 0 & 0 & 0 & 0\\\\\n",
       "\t10 & 0.0036000 & 0.0036000 & 0.0036000 & 0.0036000 & 0.0036000 & 0.01360000 & 0.01360000 & 0.01360000 & 0.01360000 & 0.01720323 & ⋯ & 0 & 0 & 0 & 0 & 0 & 0 & 0 & 0 & 0 & 0\\\\\n",
       "\\end{tabular}\n"
      ],
      "text/markdown": [
       "\n",
       "A matrix: 10 × 107 of type dbl\n",
       "\n",
       "| <!--/--> | 1 | 2 | 3 | 4 | 5 | 6 | 7 | 8 | 9 | 10 | ⋯ | 98 | 99 | 100 | 101 | 102 | 103 | 104 | 105 | 106 | 107 |\n",
       "|---|---|---|---|---|---|---|---|---|---|---|---|---|---|---|---|---|---|---|---|---|---|\n",
       "| 1 | 0.0172023 | 0.0136000 | 0.0136000 | 0.0136000 | 0.0136000 | 0.00360000 | 0.00360000 | 0.00360000 | 0.00360000 | 0.00360000 | ⋯ | 0 | 0 | 0 | 0 | 0 | 0 | 0 | 0 | 0 | 0 |\n",
       "| 2 | 0.0136000 | 0.0172023 | 0.0136000 | 0.0136000 | 0.0136000 | 0.00360000 | 0.00360000 | 0.00360000 | 0.00360000 | 0.00360000 | ⋯ | 0 | 0 | 0 | 0 | 0 | 0 | 0 | 0 | 0 | 0 |\n",
       "| 3 | 0.0136000 | 0.0136000 | 0.0172023 | 0.0136000 | 0.0136000 | 0.00360000 | 0.00360000 | 0.00360000 | 0.00360000 | 0.00360000 | ⋯ | 0 | 0 | 0 | 0 | 0 | 0 | 0 | 0 | 0 | 0 |\n",
       "| 4 | 0.0136000 | 0.0136000 | 0.0136000 | 0.0172023 | 0.0136000 | 0.00360000 | 0.00360000 | 0.00360000 | 0.00360000 | 0.00360000 | ⋯ | 0 | 0 | 0 | 0 | 0 | 0 | 0 | 0 | 0 | 0 |\n",
       "| 5 | 0.0136000 | 0.0136000 | 0.0136000 | 0.0136000 | 0.0172023 | 0.00360000 | 0.00360000 | 0.00360000 | 0.00360000 | 0.00360000 | ⋯ | 0 | 0 | 0 | 0 | 0 | 0 | 0 | 0 | 0 | 0 |\n",
       "| 6 | 0.0036000 | 0.0036000 | 0.0036000 | 0.0036000 | 0.0036000 | 0.01720323 | 0.01360000 | 0.01360000 | 0.01360000 | 0.01360000 | ⋯ | 0 | 0 | 0 | 0 | 0 | 0 | 0 | 0 | 0 | 0 |\n",
       "| 7 | 0.0036000 | 0.0036000 | 0.0036000 | 0.0036000 | 0.0036000 | 0.01360000 | 0.01720323 | 0.01360000 | 0.01360000 | 0.01360000 | ⋯ | 0 | 0 | 0 | 0 | 0 | 0 | 0 | 0 | 0 | 0 |\n",
       "| 8 | 0.0036000 | 0.0036000 | 0.0036000 | 0.0036000 | 0.0036000 | 0.01360000 | 0.01360000 | 0.01720323 | 0.01360000 | 0.01360000 | ⋯ | 0 | 0 | 0 | 0 | 0 | 0 | 0 | 0 | 0 | 0 |\n",
       "| 9 | 0.0036000 | 0.0036000 | 0.0036000 | 0.0036000 | 0.0036000 | 0.01360000 | 0.01360000 | 0.01360000 | 0.01720323 | 0.01360000 | ⋯ | 0 | 0 | 0 | 0 | 0 | 0 | 0 | 0 | 0 | 0 |\n",
       "| 10 | 0.0036000 | 0.0036000 | 0.0036000 | 0.0036000 | 0.0036000 | 0.01360000 | 0.01360000 | 0.01360000 | 0.01360000 | 0.01720323 | ⋯ | 0 | 0 | 0 | 0 | 0 | 0 | 0 | 0 | 0 | 0 |\n",
       "\n"
      ],
      "text/plain": [
       "   1         2         3         4         5         6          7         \n",
       "1  0.0172023 0.0136000 0.0136000 0.0136000 0.0136000 0.00360000 0.00360000\n",
       "2  0.0136000 0.0172023 0.0136000 0.0136000 0.0136000 0.00360000 0.00360000\n",
       "3  0.0136000 0.0136000 0.0172023 0.0136000 0.0136000 0.00360000 0.00360000\n",
       "4  0.0136000 0.0136000 0.0136000 0.0172023 0.0136000 0.00360000 0.00360000\n",
       "5  0.0136000 0.0136000 0.0136000 0.0136000 0.0172023 0.00360000 0.00360000\n",
       "6  0.0036000 0.0036000 0.0036000 0.0036000 0.0036000 0.01720323 0.01360000\n",
       "7  0.0036000 0.0036000 0.0036000 0.0036000 0.0036000 0.01360000 0.01720323\n",
       "8  0.0036000 0.0036000 0.0036000 0.0036000 0.0036000 0.01360000 0.01360000\n",
       "9  0.0036000 0.0036000 0.0036000 0.0036000 0.0036000 0.01360000 0.01360000\n",
       "10 0.0036000 0.0036000 0.0036000 0.0036000 0.0036000 0.01360000 0.01360000\n",
       "   8          9          10         ⋯ 98 99 100 101 102 103 104 105 106 107\n",
       "1  0.00360000 0.00360000 0.00360000 ⋯ 0  0  0   0   0   0   0   0   0   0  \n",
       "2  0.00360000 0.00360000 0.00360000 ⋯ 0  0  0   0   0   0   0   0   0   0  \n",
       "3  0.00360000 0.00360000 0.00360000 ⋯ 0  0  0   0   0   0   0   0   0   0  \n",
       "4  0.00360000 0.00360000 0.00360000 ⋯ 0  0  0   0   0   0   0   0   0   0  \n",
       "5  0.00360000 0.00360000 0.00360000 ⋯ 0  0  0   0   0   0   0   0   0   0  \n",
       "6  0.01360000 0.01360000 0.01360000 ⋯ 0  0  0   0   0   0   0   0   0   0  \n",
       "7  0.01360000 0.01360000 0.01360000 ⋯ 0  0  0   0   0   0   0   0   0   0  \n",
       "8  0.01720323 0.01360000 0.01360000 ⋯ 0  0  0   0   0   0   0   0   0   0  \n",
       "9  0.01360000 0.01720323 0.01360000 ⋯ 0  0  0   0   0   0   0   0   0   0  \n",
       "10 0.01360000 0.01360000 0.01720323 ⋯ 0  0  0   0   0   0   0   0   0   0  "
      ]
     },
     "metadata": {},
     "output_type": "display_data"
    }
   ],
   "source": [
    "params <- log(cov_params$default^2)\n",
    "example_cov_matrix <- constr_mather_cov(\n",
    "    params,\n",
    "    corn_soy_data$site_id,\n",
    "    corn_soy_data$trt_yr_end,\n",
    "    corn_soy_data$yrs_btwn_meas\n",
    ")\n",
    "example_cov_matrix[1:10,]"
   ]
  },
  {
   "cell_type": "code",
   "execution_count": null,
   "metadata": {
    "vscode": {
     "languageId": "r"
    }
   },
   "outputs": [],
   "source": []
  }
 ],
 "metadata": {
  "kernelspec": {
   "display_name": "R",
   "language": "R",
   "name": "ir"
  },
  "language_info": {
   "codemirror_mode": "r",
   "file_extension": ".r",
   "mimetype": "text/x-r-source",
   "name": "R",
   "pygments_lexer": "r",
   "version": "4.3.0"
  }
 },
 "nbformat": 4,
 "nbformat_minor": 2
}
